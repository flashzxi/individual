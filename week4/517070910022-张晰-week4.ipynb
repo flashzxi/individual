{
 "cells": [
  {
   "cell_type": "markdown",
   "metadata": {},
   "source": [
    "# Week 4\n",
    "### 张晰 517070910022\n",
    "\n",
    "## 1\n",
    "1. Sometimes the loss of significance error can be avoided by rearranging terms in the function using a known identity from trigonometry or algebra. Find an equivalent formula for the following functions that avoids a loss of significance.\n",
    "\n",
    "    a) $\\ln(x+1)-\\ln(x)$ for large $x$\n",
    "\n",
    "    b) $\\sqrt{x^2+1}-x$ for large $x$\n",
    "\n",
    "    c) $\\cos^2(x)-\\sin^2(x)$ for $x\\approx \\pi/4$\n",
    "\n",
    "    d) $\\sqrt{\\dfrac{1+\\cos(x)}{2}}$ for $x\\approx \\pi$"
   ]
  },
  {
   "cell_type": "markdown",
   "metadata": {},
   "source": [
    "**Solution:**  \n",
    "    a) $$\\ln(x+1)-\\ln(x) = \\ln(\\frac{x+1}{x}) = \\ln(1+\\frac{1}{x})$$\n",
    "    b) $$\\sqrt{x^2+1}-x = x\\sqrt{1+\\frac{1}{x^2}}-x = x\\left(\\sqrt{1+\\frac{1}{x^2}}-1\\right)$$\n",
    "    c) $$ \\cos^2(x) - \\sin^2(x) = \\cos(2x)$$\n",
    "    d) $$\\sqrt{\\frac{1+\\cos(x)}{2}} = \\sqrt{\\frac{1+2\\cos^2(x/2)-1}{2}} = \\left|\\cos\\left(\\frac{x}2\\right)\\right|$$"
   ]
  },
  {
   "cell_type": "markdown",
   "metadata": {},
   "source": [
    "## 2\n",
    "Suppose the algorithmic error is inversely proportional to the square of the number of steps $N$, that is $\\epsilon_{\\text{approx}}\\simeq\\cfrac{1}{N^{2}}%$ Estimate the \"best approximation\" for a double-precision calculation and the corresponding value of $N$. Repeat the calculation in case when the algorithmic error decreases more rapidly as $\\epsilon_{\\text{approx}}\\simeq\\cfrac{2}{N^{4}}%$"
   ]
  },
  {
   "cell_type": "markdown",
   "metadata": {},
   "source": [
    "**Solution:**  \n",
    "    For double-percision, $\\epsilon_m\\approx 1e-16$. If $\\epsilon_{\\rm{approx}}\\simeq \\frac{1}{N^2}$\n",
    "    $$\\epsilon_{tot}\\simeq \\frac{1}{N^2} + \\sqrt{N}\\epsilon_m$$\n",
    "    When $$\\frac{1}{N^2} = \\sqrt{N}\\epsilon_m$$ \n",
    "    It's the \"best\" approximation. Get $$N \\simeq 2.5e6 \\qquad \\epsilon_{tot}\\simeq 3.17e-13$$\n",
    "    \n",
    "   If $\\epsilon_{\\rm{approx}}\\simeq \\frac{2}{N^2}$,\n",
    "   When $$\\frac{2}{N^4} = \\sqrt{N}\\epsilon_m$$ \n",
    "    It's the \"best\" approximation. Get $$N \\simeq 4200 \\qquad \\epsilon_{tot}\\simeq 1.28e-14$$"
   ]
  },
  {
   "cell_type": "markdown",
   "metadata": {},
   "source": [
    "## 3\n",
    "The value of $\\pi$ can be estimated from the calculations of the side lengths of regular polygons inscribing a circle. In general, $\\pi_k=\\pi_\\infty+\\dfrac{c_1}{k}+\\dfrac{c_2}{k^2}+\\dfrac{c_3}{k^3}+\\cdots$ where $\\pi_k$ is the ratio of the perimeter to the diameter of a regular $k$-sided polygon. Determine the approximate value of $\\pi\\approx\\pi_\\infty$ from $\\pi_8 = 3.061 467, \\pi_{16} = 3.121 445$,  $\\pi_{32} = 3.136 548$, and $\\pi_{64} = 3.140 331$ of the inscribing polygons. Which $c_i$ is most significant and why?\n"
   ]
  },
  {
   "cell_type": "markdown",
   "metadata": {},
   "source": [
    "**Solution:**  \n",
    "We have 4 points on the equation, neglect the terms over $\\left(\\frac{1}{k}\\right)^3$, we can get a equation set:\n",
    "$$\n",
    "\\left\\{\\begin{aligned}\n",
    "3.061467 &= \\pi_\\infty + \\frac{c_1}{8} + \\frac{c_2}{8^2} + \\frac{c_3}{8^3}\\\\\n",
    "3.121445 &= \\pi_\\infty + \\frac{c_1}{16} + \\frac{c_2}{16^2} + \\frac{c_3}{16^3}\\\\\n",
    "3.136548 &= \\pi_\\infty + \\frac{c_1}{32} + \\frac{c_2}{32^2} + \\frac{c_3}{32^3}\\\\\n",
    "3.140331 &= \\pi_\\infty + \\frac{c_1}{64} + \\frac{c_2}{64^2} + \\frac{c_3}{64^3}\n",
    "\\end{aligned}\\right.\n",
    "$$\n",
    "Solve this equation set with numpy:"
   ]
  },
  {
   "cell_type": "code",
   "execution_count": 1,
   "metadata": {},
   "outputs": [
    {
     "name": "stdout",
     "output_type": "stream",
     "text": [
      "pi = 3.1415837619047626\n"
     ]
    }
   ],
   "source": [
    "import numpy as np\n",
    "matrix = np.array([[1,1/8,1/8**2,1/8**3],[1,1/16,1/16**2,1/16**3],[1,1/32,1/32**2,1/32**3],[1,1/64,1/64**2,1/64**3]])\n",
    "value = np.array([[3.061467],[3.121445],[3.136548],[3.140331]])\n",
    "coff = np.linalg.solve(matrix,value)\n",
    "print(f'pi = {coff[0,0]}')"
   ]
  },
  {
   "cell_type": "markdown",
   "metadata": {},
   "source": [
    "We can see $\\pi_{\\infty}\\approx 3.14158376$.\n",
    "Of course $c_1$ is the most important. As $k$ rising up, $\\left(\\frac{1}{k}\\right)^n$ with $n\\geq 2$ are all much smaller than $\\frac{c_1}{k}$"
   ]
  },
  {
   "cell_type": "markdown",
   "metadata": {},
   "source": [
    "## 4\n",
    "   Consider the fixed-point iteration described by\n",
    "    $$\n",
    "    x_{n+1}= g( x_n)=\\frac{1}{2}\\left(x_n+\\frac{a}{x_n}\\right)\n",
    "    $$\n",
    "Apply this iteration function $g(x)$ to approximate $\\sqrt{5}$.\n",
    "    \n",
    "Hint: Please write your own script based on the sample scripts that implement the bisection method/secant method. \n"
   ]
  },
  {
   "cell_type": "markdown",
   "metadata": {},
   "source": [
    "**Solution:**  \n",
    "With $$ x^* = \\frac{1}{2}(x^* + \\frac{a}{x^*})\\\\\\downarrow$$\n",
    "$$x^* = \\sqrt{a}$$\n",
    "So to get $\\sqrt{5}$, we should choose $ a = 5 $, and solve the equation \n",
    "$$x = \\frac{1}{2}\\left(x+\\frac{5}{x}\\right)$$"
   ]
  },
  {
   "cell_type": "code",
   "execution_count": 2,
   "metadata": {},
   "outputs": [
    {
     "name": "stdout",
     "output_type": "stream",
     "text": [
      "2.23606797749979\n"
     ]
    }
   ],
   "source": [
    "def Fixed_Point_Method(f,start_point,N=200,precision = 1e-10):\n",
    "    count = 0\n",
    "    while count < N:\n",
    "        count += 1\n",
    "        if abs(start_point-f(start_point) / start_point) < precision:\n",
    "            break\n",
    "            \n",
    "        start_point = f(start_point)\n",
    "    return start_point\n",
    "\n",
    "print(Fixed_Point_Method(lambda x:1/2*(x+5/x),3))"
   ]
  },
  {
   "cell_type": "code",
   "execution_count": 3,
   "metadata": {},
   "outputs": [
    {
     "name": "stdout",
     "output_type": "stream",
     "text": [
      "2.23606797749979\n"
     ]
    }
   ],
   "source": [
    "#二分法，递归\n",
    "def Bisection_Method(f,left,right,precision=1e-16):\n",
    "    if f(left)==0:\n",
    "        return left\n",
    "    elif f(right) == 0 :\n",
    "        return right\n",
    "    elif abs(right - left)< precision:\n",
    "        return (left + right) / 2\n",
    "    elif f(left) * f((left + right) / 2) > 0:       # 若f(left)和f( (left+right)/2 )同号，就用(left+right)/2代替left\n",
    "        return Bisection_Method(f,(left + right) / 2,right, precision)\n",
    "    else :\n",
    "        return Bisection_Method(f,left , (left + right) / 2, precision)\n",
    "    \n",
    "print(Bisection_Method(lambda x:1/2*(5/x - x),1,3)) #left别取0，没写try"
   ]
  },
  {
   "cell_type": "code",
   "execution_count": 4,
   "metadata": {},
   "outputs": [
    {
     "name": "stdout",
     "output_type": "stream",
     "text": [
      "2.23606797749979\n"
     ]
    }
   ],
   "source": [
    "def Secant_Method(f,x1,x2,precision=1e-19):\n",
    "    if f(x1) == 0:\n",
    "        return x1\n",
    "    elif f(x2) == 0 :\n",
    "        return x2\n",
    "    elif abs(x1 - x2) < precision:\n",
    "        return (x1 + x2) / 2\n",
    "    else :\n",
    "        x3 = x2 - f(x2) * ( x2 - x1 ) / ( f(x2) - f(x1) )\n",
    "        return Secant_Method(f,x2,x3)\n",
    "        \n",
    "print(Secant_Method(lambda x:1/2*(5/x - x),1,3))"
   ]
  }
 ],
 "metadata": {
  "kernelspec": {
   "display_name": "Python 3",
   "language": "python",
   "name": "python3"
  },
  "language_info": {
   "codemirror_mode": {
    "name": "ipython",
    "version": 3
   },
   "file_extension": ".py",
   "mimetype": "text/x-python",
   "name": "python",
   "nbconvert_exporter": "python",
   "pygments_lexer": "ipython3",
   "version": "3.7.0"
  }
 },
 "nbformat": 4,
 "nbformat_minor": 2
}
